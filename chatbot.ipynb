{
 "cells": [
  {
   "cell_type": "code",
   "execution_count": 2,
   "id": "3a4a4e5e",
   "metadata": {},
   "outputs": [
    {
     "name": "stdout",
     "output_type": "stream",
     "text": [
      "\u001b[38;5;2m✔ Download and installation successful\u001b[0m\n",
      "You can now load the package via spacy.load('en_core_web_sm')\n",
      "\u001b[38;5;3m⚠ Restart to reload dependencies\u001b[0m\n",
      "If you are in a Jupyter or Colab notebook, you may need to restart Python in\n",
      "order to load all the package's dependencies. You can do this by selecting the\n",
      "'Restart kernel' or 'Restart runtime' option.\n"
     ]
    }
   ],
   "source": [
    "from chatterbot import ChatBot\n",
    "from chatterbot.trainers import ListTrainer\n",
    "\n",
    "# isso aqui só precisa para corrigir o bug\n",
    "from spacy.cli import download\n",
    "\n",
    "download(\"en_core_web_sm\")\n",
    "\n",
    "class ENGSM:\n",
    "    ISO_639_1 = 'en_core_web_sm'"
   ]
  },
  {
   "cell_type": "code",
   "execution_count": 3,
   "id": "774aa401",
   "metadata": {},
   "outputs": [
    {
     "name": "stderr",
     "output_type": "stream",
     "text": [
      "List Trainer: 10it [00:00, 254.88it/s]"
     ]
    },
    {
     "name": "stdout",
     "output_type": "stream",
     "text": [
      "Olá!\n"
     ]
    },
    {
     "name": "stderr",
     "output_type": "stream",
     "text": [
      "\n"
     ]
    }
   ],
   "source": [
    "from chatterbot import ChatBot\n",
    "from chatterbot.trainers import ListTrainer\n",
    "\n",
    "# Criação do chatbot\n",
    "#chatbot = ChatBot('MeuChatBot')\n",
    "chatbot = ChatBot(\"BotVassa\")\n",
    "\n",
    "# Treinamento do chatbot\n",
    "trainer = ListTrainer(chatbot)\n",
    "\n",
    "# Conjunto de dados para treinamento\n",
    "conversas = [\n",
    "    \"Oi\",\n",
    "    \"Olá!\",\n",
    "    \"Como você está?\",\n",
    "    \"Estou bem, obrigado!\",\n",
    "    \"Qual é o seu nome?\",\n",
    "    \"Meu nome é ChatBot.\",\n",
    "    \"Até logo!\",\n",
    "    \"Até mais!\",\n",
    "    \"Qual é o apelido da Mariana?\",\n",
    "    \"Buchechuda\"\n",
    "]\n",
    "\n",
    "# Treinando o chatbot\n",
    "trainer.train(conversas)\n",
    "\n",
    "# Testando o chatbot\n",
    "resposta = chatbot.get_response(\"Oi\")\n",
    "print(resposta)\n"
   ]
  },
  {
   "cell_type": "code",
   "execution_count": null,
   "id": "90ad02ec",
   "metadata": {},
   "outputs": [
    {
     "name": "stdout",
     "output_type": "stream",
     "text": [
      "Como você está?\n"
     ]
    }
   ],
   "source": [
    "while True:\n",
    "    mensagem = input(\"Mande uma mensagem para o chatbot:\")\n",
    "    if mensagem == \"parar\":\n",
    "        break\n",
    "    resposta = chatbot.get_response(mensagem)\n",
    "    print(resposta)"
   ]
  }
 ],
 "metadata": {
  "kernelspec": {
   "display_name": ".venv",
   "language": "python",
   "name": "python3"
  },
  "language_info": {
   "codemirror_mode": {
    "name": "ipython",
    "version": 3
   },
   "file_extension": ".py",
   "mimetype": "text/x-python",
   "name": "python",
   "nbconvert_exporter": "python",
   "pygments_lexer": "ipython3",
   "version": "3.11.5"
  }
 },
 "nbformat": 4,
 "nbformat_minor": 5
}
